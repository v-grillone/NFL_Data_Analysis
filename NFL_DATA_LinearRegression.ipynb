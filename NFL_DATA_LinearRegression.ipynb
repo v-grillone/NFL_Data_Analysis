{
 "cells": [
  {
   "cell_type": "code",
   "execution_count": 1,
   "metadata": {},
   "outputs": [],
   "source": [
    "import pandas as pd\n",
    "import numpy as np\n",
    "import matplotlib.pyplot as plt\n",
    "import seaborn as sns\n",
    "sns.set()"
   ]
  },
  {
   "cell_type": "code",
   "execution_count": 2,
   "metadata": {},
   "outputs": [
    {
     "data": {
      "text/html": [
       "<div>\n",
       "<style scoped>\n",
       "    .dataframe tbody tr th:only-of-type {\n",
       "        vertical-align: middle;\n",
       "    }\n",
       "\n",
       "    .dataframe tbody tr th {\n",
       "        vertical-align: top;\n",
       "    }\n",
       "\n",
       "    .dataframe thead th {\n",
       "        text-align: right;\n",
       "    }\n",
       "</style>\n",
       "<table border=\"1\" class=\"dataframe\">\n",
       "  <thead>\n",
       "    <tr style=\"text-align: right;\">\n",
       "      <th></th>\n",
       "      <th>schedule_date</th>\n",
       "      <th>schedule_season</th>\n",
       "      <th>schedule_week</th>\n",
       "      <th>schedule_playoff</th>\n",
       "      <th>team_home</th>\n",
       "      <th>score_home</th>\n",
       "      <th>score_away</th>\n",
       "      <th>team_away</th>\n",
       "      <th>team_favorite_id</th>\n",
       "      <th>spread_favorite</th>\n",
       "      <th>...</th>\n",
       "      <th>weather_humidity</th>\n",
       "      <th>score_total</th>\n",
       "      <th>over_under_diff</th>\n",
       "      <th>over</th>\n",
       "      <th>under</th>\n",
       "      <th>home_diff</th>\n",
       "      <th>home_win</th>\n",
       "      <th>away_win</th>\n",
       "      <th>fav_win</th>\n",
       "      <th>fav_beat_spread</th>\n",
       "    </tr>\n",
       "  </thead>\n",
       "  <tbody>\n",
       "    <tr>\n",
       "      <td>0</td>\n",
       "      <td>09/03/2000</td>\n",
       "      <td>2000</td>\n",
       "      <td>1</td>\n",
       "      <td>False</td>\n",
       "      <td>Buffalo Bills</td>\n",
       "      <td>16.0</td>\n",
       "      <td>13.0</td>\n",
       "      <td>Tennessee Titans</td>\n",
       "      <td>Buffalo Bills</td>\n",
       "      <td>-1.0</td>\n",
       "      <td>...</td>\n",
       "      <td>82</td>\n",
       "      <td>29.0</td>\n",
       "      <td>-11.0</td>\n",
       "      <td>0</td>\n",
       "      <td>1</td>\n",
       "      <td>3.0</td>\n",
       "      <td>1</td>\n",
       "      <td>0</td>\n",
       "      <td>1</td>\n",
       "      <td>1</td>\n",
       "    </tr>\n",
       "    <tr>\n",
       "      <td>1</td>\n",
       "      <td>09/03/2000</td>\n",
       "      <td>2000</td>\n",
       "      <td>1</td>\n",
       "      <td>False</td>\n",
       "      <td>Cleveland Browns</td>\n",
       "      <td>7.0</td>\n",
       "      <td>27.0</td>\n",
       "      <td>Jacksonville Jaguars</td>\n",
       "      <td>Jacksonville Jaguars</td>\n",
       "      <td>-10.5</td>\n",
       "      <td>...</td>\n",
       "      <td>86</td>\n",
       "      <td>34.0</td>\n",
       "      <td>-4.5</td>\n",
       "      <td>0</td>\n",
       "      <td>1</td>\n",
       "      <td>-20.0</td>\n",
       "      <td>0</td>\n",
       "      <td>1</td>\n",
       "      <td>1</td>\n",
       "      <td>1</td>\n",
       "    </tr>\n",
       "    <tr>\n",
       "      <td>2</td>\n",
       "      <td>09/03/2000</td>\n",
       "      <td>2000</td>\n",
       "      <td>1</td>\n",
       "      <td>False</td>\n",
       "      <td>Dallas Cowboys</td>\n",
       "      <td>14.0</td>\n",
       "      <td>41.0</td>\n",
       "      <td>Philadelphia Eagles</td>\n",
       "      <td>Dallas Cowboys</td>\n",
       "      <td>-6.0</td>\n",
       "      <td>...</td>\n",
       "      <td>32</td>\n",
       "      <td>55.0</td>\n",
       "      <td>15.5</td>\n",
       "      <td>1</td>\n",
       "      <td>0</td>\n",
       "      <td>-27.0</td>\n",
       "      <td>0</td>\n",
       "      <td>1</td>\n",
       "      <td>0</td>\n",
       "      <td>0</td>\n",
       "    </tr>\n",
       "    <tr>\n",
       "      <td>3</td>\n",
       "      <td>09/03/2000</td>\n",
       "      <td>2000</td>\n",
       "      <td>1</td>\n",
       "      <td>False</td>\n",
       "      <td>Green Bay Packers</td>\n",
       "      <td>16.0</td>\n",
       "      <td>20.0</td>\n",
       "      <td>New York Jets</td>\n",
       "      <td>Green Bay Packers</td>\n",
       "      <td>-2.5</td>\n",
       "      <td>...</td>\n",
       "      <td>87</td>\n",
       "      <td>36.0</td>\n",
       "      <td>-8.0</td>\n",
       "      <td>0</td>\n",
       "      <td>1</td>\n",
       "      <td>-4.0</td>\n",
       "      <td>0</td>\n",
       "      <td>1</td>\n",
       "      <td>0</td>\n",
       "      <td>0</td>\n",
       "    </tr>\n",
       "    <tr>\n",
       "      <td>4</td>\n",
       "      <td>09/03/2000</td>\n",
       "      <td>2000</td>\n",
       "      <td>1</td>\n",
       "      <td>False</td>\n",
       "      <td>Kansas City Chiefs</td>\n",
       "      <td>14.0</td>\n",
       "      <td>27.0</td>\n",
       "      <td>Indianapolis Colts</td>\n",
       "      <td>Indianapolis Colts</td>\n",
       "      <td>-3.5</td>\n",
       "      <td>...</td>\n",
       "      <td>51</td>\n",
       "      <td>41.0</td>\n",
       "      <td>-3.0</td>\n",
       "      <td>0</td>\n",
       "      <td>1</td>\n",
       "      <td>-13.0</td>\n",
       "      <td>0</td>\n",
       "      <td>1</td>\n",
       "      <td>1</td>\n",
       "      <td>1</td>\n",
       "    </tr>\n",
       "  </tbody>\n",
       "</table>\n",
       "<p>5 rows × 25 columns</p>\n",
       "</div>"
      ],
      "text/plain": [
       "  schedule_date  schedule_season  schedule_week  schedule_playoff  \\\n",
       "0    09/03/2000             2000              1             False   \n",
       "1    09/03/2000             2000              1             False   \n",
       "2    09/03/2000             2000              1             False   \n",
       "3    09/03/2000             2000              1             False   \n",
       "4    09/03/2000             2000              1             False   \n",
       "\n",
       "            team_home  score_home  score_away             team_away  \\\n",
       "0       Buffalo Bills        16.0        13.0      Tennessee Titans   \n",
       "1    Cleveland Browns         7.0        27.0  Jacksonville Jaguars   \n",
       "2      Dallas Cowboys        14.0        41.0   Philadelphia Eagles   \n",
       "3   Green Bay Packers        16.0        20.0         New York Jets   \n",
       "4  Kansas City Chiefs        14.0        27.0    Indianapolis Colts   \n",
       "\n",
       "       team_favorite_id  spread_favorite  ...  weather_humidity score_total  \\\n",
       "0         Buffalo Bills             -1.0  ...                82        29.0   \n",
       "1  Jacksonville Jaguars            -10.5  ...                86        34.0   \n",
       "2        Dallas Cowboys             -6.0  ...                32        55.0   \n",
       "3     Green Bay Packers             -2.5  ...                87        36.0   \n",
       "4    Indianapolis Colts             -3.5  ...                51        41.0   \n",
       "\n",
       "   over_under_diff  over  under  home_diff  home_win  away_win  fav_win  \\\n",
       "0            -11.0     0      1        3.0         1         0        1   \n",
       "1             -4.5     0      1      -20.0         0         1        1   \n",
       "2             15.5     1      0      -27.0         0         1        0   \n",
       "3             -8.0     0      1       -4.0         0         1        0   \n",
       "4             -3.0     0      1      -13.0         0         1        1   \n",
       "\n",
       "   fav_beat_spread  \n",
       "0                1  \n",
       "1                1  \n",
       "2                0  \n",
       "3                0  \n",
       "4                1  \n",
       "\n",
       "[5 rows x 25 columns]"
      ]
     },
     "execution_count": 2,
     "metadata": {},
     "output_type": "execute_result"
    }
   ],
   "source": [
    "raw_data = pd.read_csv('nfl_data_preprocessed.csv')\n",
    "raw_data.head()"
   ]
  },
  {
   "cell_type": "markdown",
   "metadata": {},
   "source": [
    "### Filtering data to work with"
   ]
  },
  {
   "cell_type": "code",
   "execution_count": 3,
   "metadata": {},
   "outputs": [],
   "source": [
    "df = raw_data.copy()"
   ]
  },
  {
   "cell_type": "code",
   "execution_count": 4,
   "metadata": {},
   "outputs": [
    {
     "data": {
      "text/html": [
       "<div>\n",
       "<style scoped>\n",
       "    .dataframe tbody tr th:only-of-type {\n",
       "        vertical-align: middle;\n",
       "    }\n",
       "\n",
       "    .dataframe tbody tr th {\n",
       "        vertical-align: top;\n",
       "    }\n",
       "\n",
       "    .dataframe thead th {\n",
       "        text-align: right;\n",
       "    }\n",
       "</style>\n",
       "<table border=\"1\" class=\"dataframe\">\n",
       "  <thead>\n",
       "    <tr style=\"text-align: right;\">\n",
       "      <th></th>\n",
       "      <th>spread_favorite</th>\n",
       "      <th>over_under_line</th>\n",
       "      <th>weather_wind_mph</th>\n",
       "      <th>score_total</th>\n",
       "    </tr>\n",
       "  </thead>\n",
       "  <tbody>\n",
       "    <tr>\n",
       "      <td>0</td>\n",
       "      <td>-1.0</td>\n",
       "      <td>40.0</td>\n",
       "      <td>7.0</td>\n",
       "      <td>29.0</td>\n",
       "    </tr>\n",
       "    <tr>\n",
       "      <td>1</td>\n",
       "      <td>-10.5</td>\n",
       "      <td>38.5</td>\n",
       "      <td>8.0</td>\n",
       "      <td>34.0</td>\n",
       "    </tr>\n",
       "    <tr>\n",
       "      <td>2</td>\n",
       "      <td>-6.0</td>\n",
       "      <td>39.5</td>\n",
       "      <td>7.0</td>\n",
       "      <td>55.0</td>\n",
       "    </tr>\n",
       "    <tr>\n",
       "      <td>3</td>\n",
       "      <td>-2.5</td>\n",
       "      <td>44.0</td>\n",
       "      <td>13.0</td>\n",
       "      <td>36.0</td>\n",
       "    </tr>\n",
       "    <tr>\n",
       "      <td>4</td>\n",
       "      <td>-3.5</td>\n",
       "      <td>44.0</td>\n",
       "      <td>9.0</td>\n",
       "      <td>41.0</td>\n",
       "    </tr>\n",
       "  </tbody>\n",
       "</table>\n",
       "</div>"
      ],
      "text/plain": [
       "   spread_favorite  over_under_line  weather_wind_mph  score_total\n",
       "0             -1.0             40.0               7.0         29.0\n",
       "1            -10.5             38.5               8.0         34.0\n",
       "2             -6.0             39.5               7.0         55.0\n",
       "3             -2.5             44.0              13.0         36.0\n",
       "4             -3.5             44.0               9.0         41.0"
      ]
     },
     "execution_count": 4,
     "metadata": {},
     "output_type": "execute_result"
    }
   ],
   "source": [
    "df_data = df[['spread_favorite', 'over_under_line', 'weather_wind_mph', 'score_total']]\n",
    "df_data.head()"
   ]
  },
  {
   "cell_type": "code",
   "execution_count": 5,
   "metadata": {},
   "outputs": [
    {
     "data": {
      "text/html": [
       "<div>\n",
       "<style scoped>\n",
       "    .dataframe tbody tr th:only-of-type {\n",
       "        vertical-align: middle;\n",
       "    }\n",
       "\n",
       "    .dataframe tbody tr th {\n",
       "        vertical-align: top;\n",
       "    }\n",
       "\n",
       "    .dataframe thead th {\n",
       "        text-align: right;\n",
       "    }\n",
       "</style>\n",
       "<table border=\"1\" class=\"dataframe\">\n",
       "  <thead>\n",
       "    <tr style=\"text-align: right;\">\n",
       "      <th></th>\n",
       "      <th>spread_favorite</th>\n",
       "      <th>over_under_line</th>\n",
       "      <th>weather_wind_mph</th>\n",
       "      <th>score_total</th>\n",
       "    </tr>\n",
       "  </thead>\n",
       "  <tbody>\n",
       "    <tr>\n",
       "      <td>count</td>\n",
       "      <td>2624.000000</td>\n",
       "      <td>2624.000000</td>\n",
       "      <td>2624.000000</td>\n",
       "      <td>2624.000000</td>\n",
       "    </tr>\n",
       "    <tr>\n",
       "      <td>mean</td>\n",
       "      <td>-5.392530</td>\n",
       "      <td>41.362424</td>\n",
       "      <td>9.027439</td>\n",
       "      <td>42.111280</td>\n",
       "    </tr>\n",
       "    <tr>\n",
       "      <td>std</td>\n",
       "      <td>3.434019</td>\n",
       "      <td>4.666900</td>\n",
       "      <td>4.734347</td>\n",
       "      <td>14.377614</td>\n",
       "    </tr>\n",
       "    <tr>\n",
       "      <td>min</td>\n",
       "      <td>-26.500000</td>\n",
       "      <td>30.000000</td>\n",
       "      <td>0.000000</td>\n",
       "      <td>3.000000</td>\n",
       "    </tr>\n",
       "    <tr>\n",
       "      <td>25%</td>\n",
       "      <td>-7.000000</td>\n",
       "      <td>37.500000</td>\n",
       "      <td>6.000000</td>\n",
       "      <td>32.000000</td>\n",
       "    </tr>\n",
       "    <tr>\n",
       "      <td>50%</td>\n",
       "      <td>-4.500000</td>\n",
       "      <td>41.000000</td>\n",
       "      <td>8.000000</td>\n",
       "      <td>41.000000</td>\n",
       "    </tr>\n",
       "    <tr>\n",
       "      <td>75%</td>\n",
       "      <td>-3.000000</td>\n",
       "      <td>44.500000</td>\n",
       "      <td>12.000000</td>\n",
       "      <td>51.000000</td>\n",
       "    </tr>\n",
       "    <tr>\n",
       "      <td>max</td>\n",
       "      <td>0.000000</td>\n",
       "      <td>63.000000</td>\n",
       "      <td>32.000000</td>\n",
       "      <td>106.000000</td>\n",
       "    </tr>\n",
       "  </tbody>\n",
       "</table>\n",
       "</div>"
      ],
      "text/plain": [
       "       spread_favorite  over_under_line  weather_wind_mph  score_total\n",
       "count      2624.000000      2624.000000       2624.000000  2624.000000\n",
       "mean         -5.392530        41.362424          9.027439    42.111280\n",
       "std           3.434019         4.666900          4.734347    14.377614\n",
       "min         -26.500000        30.000000          0.000000     3.000000\n",
       "25%          -7.000000        37.500000          6.000000    32.000000\n",
       "50%          -4.500000        41.000000          8.000000    41.000000\n",
       "75%          -3.000000        44.500000         12.000000    51.000000\n",
       "max           0.000000        63.000000         32.000000   106.000000"
      ]
     },
     "execution_count": 5,
     "metadata": {},
     "output_type": "execute_result"
    }
   ],
   "source": [
    "df_data.describe()"
   ]
  },
  {
   "cell_type": "markdown",
   "metadata": {},
   "source": [
    "### Removing outliers"
   ]
  },
  {
   "cell_type": "code",
   "execution_count": 6,
   "metadata": {},
   "outputs": [],
   "source": [
    "df_outliers = df_data.copy()"
   ]
  },
  {
   "cell_type": "code",
   "execution_count": 7,
   "metadata": {},
   "outputs": [],
   "source": [
    "df_outliers['spread_favorite'] = abs(df_outliers['spread_favorite'])"
   ]
  },
  {
   "cell_type": "code",
   "execution_count": 8,
   "metadata": {},
   "outputs": [],
   "source": [
    "q = df_outliers['spread_favorite'].quantile(0.99)\n",
    "data_1 = df_outliers[df_outliers['spread_favorite']<q]"
   ]
  },
  {
   "cell_type": "code",
   "execution_count": 9,
   "metadata": {},
   "outputs": [],
   "source": [
    "q = data_1['over_under_line'].quantile(0.99)\n",
    "data_2 = data_1[data_1['over_under_line']<q]"
   ]
  },
  {
   "cell_type": "code",
   "execution_count": 10,
   "metadata": {},
   "outputs": [],
   "source": [
    "q = data_2['weather_wind_mph'].quantile(0.99)\n",
    "data_3 = data_2[data_2['weather_wind_mph']<q]"
   ]
  },
  {
   "cell_type": "code",
   "execution_count": 11,
   "metadata": {},
   "outputs": [],
   "source": [
    "q = data_3['score_total'].quantile(0.99)\n",
    "data_4 = data_3[data_3['score_total']<q]"
   ]
  },
  {
   "cell_type": "code",
   "execution_count": 12,
   "metadata": {},
   "outputs": [],
   "source": [
    "df_no_outliers = data_4.reset_index(drop=True)"
   ]
  },
  {
   "cell_type": "code",
   "execution_count": 13,
   "metadata": {},
   "outputs": [
    {
     "data": {
      "text/html": [
       "<div>\n",
       "<style scoped>\n",
       "    .dataframe tbody tr th:only-of-type {\n",
       "        vertical-align: middle;\n",
       "    }\n",
       "\n",
       "    .dataframe tbody tr th {\n",
       "        vertical-align: top;\n",
       "    }\n",
       "\n",
       "    .dataframe thead th {\n",
       "        text-align: right;\n",
       "    }\n",
       "</style>\n",
       "<table border=\"1\" class=\"dataframe\">\n",
       "  <thead>\n",
       "    <tr style=\"text-align: right;\">\n",
       "      <th></th>\n",
       "      <th>spread_favorite</th>\n",
       "      <th>over_under_line</th>\n",
       "      <th>weather_wind_mph</th>\n",
       "      <th>score_total</th>\n",
       "    </tr>\n",
       "  </thead>\n",
       "  <tbody>\n",
       "    <tr>\n",
       "      <td>count</td>\n",
       "      <td>2510.000000</td>\n",
       "      <td>2510.000000</td>\n",
       "      <td>2510.000000</td>\n",
       "      <td>2510.000000</td>\n",
       "    </tr>\n",
       "    <tr>\n",
       "      <td>mean</td>\n",
       "      <td>5.240637</td>\n",
       "      <td>41.184462</td>\n",
       "      <td>8.846614</td>\n",
       "      <td>41.545817</td>\n",
       "    </tr>\n",
       "    <tr>\n",
       "      <td>std</td>\n",
       "      <td>3.191925</td>\n",
       "      <td>4.408545</td>\n",
       "      <td>4.423476</td>\n",
       "      <td>13.607143</td>\n",
       "    </tr>\n",
       "    <tr>\n",
       "      <td>min</td>\n",
       "      <td>0.000000</td>\n",
       "      <td>30.000000</td>\n",
       "      <td>0.000000</td>\n",
       "      <td>6.000000</td>\n",
       "    </tr>\n",
       "    <tr>\n",
       "      <td>25%</td>\n",
       "      <td>3.000000</td>\n",
       "      <td>37.500000</td>\n",
       "      <td>6.000000</td>\n",
       "      <td>31.000000</td>\n",
       "    </tr>\n",
       "    <tr>\n",
       "      <td>50%</td>\n",
       "      <td>4.000000</td>\n",
       "      <td>41.000000</td>\n",
       "      <td>8.000000</td>\n",
       "      <td>41.000000</td>\n",
       "    </tr>\n",
       "    <tr>\n",
       "      <td>75%</td>\n",
       "      <td>7.000000</td>\n",
       "      <td>44.000000</td>\n",
       "      <td>12.000000</td>\n",
       "      <td>51.000000</td>\n",
       "    </tr>\n",
       "    <tr>\n",
       "      <td>max</td>\n",
       "      <td>15.000000</td>\n",
       "      <td>53.500000</td>\n",
       "      <td>22.000000</td>\n",
       "      <td>79.000000</td>\n",
       "    </tr>\n",
       "  </tbody>\n",
       "</table>\n",
       "</div>"
      ],
      "text/plain": [
       "       spread_favorite  over_under_line  weather_wind_mph  score_total\n",
       "count      2510.000000      2510.000000       2510.000000  2510.000000\n",
       "mean          5.240637        41.184462          8.846614    41.545817\n",
       "std           3.191925         4.408545          4.423476    13.607143\n",
       "min           0.000000        30.000000          0.000000     6.000000\n",
       "25%           3.000000        37.500000          6.000000    31.000000\n",
       "50%           4.000000        41.000000          8.000000    41.000000\n",
       "75%           7.000000        44.000000         12.000000    51.000000\n",
       "max          15.000000        53.500000         22.000000    79.000000"
      ]
     },
     "execution_count": 13,
     "metadata": {},
     "output_type": "execute_result"
    }
   ],
   "source": [
    "df_no_outliers.describe()"
   ]
  },
  {
   "cell_type": "markdown",
   "metadata": {},
   "source": [
    "### Checking the linearity"
   ]
  },
  {
   "cell_type": "code",
   "execution_count": 14,
   "metadata": {},
   "outputs": [
    {
     "data": {
      "image/png": "[encoded data removed]",
      "text/plain": [
       "<Figure size 1080x216 with 3 Axes>"
      ]
     },
     "metadata": {
      "needs_background": "light"
     },
     "output_type": "display_data"
    }
   ],
   "source": [
    "f, (ax1, ax2, ax3) = plt.subplots(1, 3, sharey=True, figsize=(15,3))\n",
    "ax1.scatter(df_no_outliers['spread_favorite'], df_no_outliers['score_total'])\n",
    "ax1.set_title('Score Total and Spread')\n",
    "ax2.scatter(df_no_outliers['over_under_line'], df_no_outliers['score_total'])\n",
    "ax2.set_title('Score Total and Over Under Line')\n",
    "ax3.scatter(df_no_outliers['weather_wind_mph'], df_no_outliers['score_total'])\n",
    "ax3.set_title('Score Total and Wind Speed')\n",
    "\n",
    "plt.show()"
   ]
  },
  {
   "cell_type": "markdown",
   "metadata": {},
   "source": [
    "### Converting score total into logirithmic form "
   ]
  },
  {
   "cell_type": "code",
   "execution_count": 15,
   "metadata": {},
   "outputs": [
    {
     "data": {
      "text/html": [
       "<div>\n",
       "<style scoped>\n",
       "    .dataframe tbody tr th:only-of-type {\n",
       "        vertical-align: middle;\n",
       "    }\n",
       "\n",
       "    .dataframe tbody tr th {\n",
       "        vertical-align: top;\n",
       "    }\n",
       "\n",
       "    .dataframe thead th {\n",
       "        text-align: right;\n",
       "    }\n",
       "</style>\n",
       "<table border=\"1\" class=\"dataframe\">\n",
       "  <thead>\n",
       "    <tr style=\"text-align: right;\">\n",
       "      <th></th>\n",
       "      <th>spread_favorite</th>\n",
       "      <th>over_under_line</th>\n",
       "      <th>weather_wind_mph</th>\n",
       "      <th>score_total</th>\n",
       "      <th>log_score_total</th>\n",
       "    </tr>\n",
       "  </thead>\n",
       "  <tbody>\n",
       "    <tr>\n",
       "      <td>0</td>\n",
       "      <td>1.0</td>\n",
       "      <td>40.0</td>\n",
       "      <td>7.0</td>\n",
       "      <td>29.0</td>\n",
       "      <td>3.367296</td>\n",
       "    </tr>\n",
       "    <tr>\n",
       "      <td>1</td>\n",
       "      <td>10.5</td>\n",
       "      <td>38.5</td>\n",
       "      <td>8.0</td>\n",
       "      <td>34.0</td>\n",
       "      <td>3.526361</td>\n",
       "    </tr>\n",
       "    <tr>\n",
       "      <td>2</td>\n",
       "      <td>6.0</td>\n",
       "      <td>39.5</td>\n",
       "      <td>7.0</td>\n",
       "      <td>55.0</td>\n",
       "      <td>4.007333</td>\n",
       "    </tr>\n",
       "    <tr>\n",
       "      <td>3</td>\n",
       "      <td>2.5</td>\n",
       "      <td>44.0</td>\n",
       "      <td>13.0</td>\n",
       "      <td>36.0</td>\n",
       "      <td>3.583519</td>\n",
       "    </tr>\n",
       "    <tr>\n",
       "      <td>4</td>\n",
       "      <td>3.5</td>\n",
       "      <td>44.0</td>\n",
       "      <td>9.0</td>\n",
       "      <td>41.0</td>\n",
       "      <td>3.713572</td>\n",
       "    </tr>\n",
       "  </tbody>\n",
       "</table>\n",
       "</div>"
      ],
      "text/plain": [
       "   spread_favorite  over_under_line  weather_wind_mph  score_total  \\\n",
       "0              1.0             40.0               7.0         29.0   \n",
       "1             10.5             38.5               8.0         34.0   \n",
       "2              6.0             39.5               7.0         55.0   \n",
       "3              2.5             44.0              13.0         36.0   \n",
       "4              3.5             44.0               9.0         41.0   \n",
       "\n",
       "   log_score_total  \n",
       "0         3.367296  \n",
       "1         3.526361  \n",
       "2         4.007333  \n",
       "3         3.583519  \n",
       "4         3.713572  "
      ]
     },
     "execution_count": 15,
     "metadata": {},
     "output_type": "execute_result"
    }
   ],
   "source": [
    "log_score_total = np.log(df_no_outliers['score_total'])\n",
    "df_no_outliers['log_score_total'] = log_score_total\n",
    "df_no_outliers.head()"
   ]
  },
  {
   "cell_type": "markdown",
   "metadata": {},
   "source": [
    "### Checking the linearity with score total in log form"
   ]
  },
  {
   "cell_type": "code",
   "execution_count": 16,
   "metadata": {},
   "outputs": [
    {
     "data": {
      "image/png": "[encoded data removed]",
      "text/plain": [
       "<Figure size 1080x216 with 3 Axes>"
      ]
     },
     "metadata": {
      "needs_background": "light"
     },
     "output_type": "display_data"
    }
   ],
   "source": [
    "f, (ax1, ax2, ax3) = plt.subplots(1, 3, sharey=True, figsize=(15,3))\n",
    "ax1.scatter(df_no_outliers['spread_favorite'], df_no_outliers['log_score_total'])\n",
    "ax1.set_title('Log Score Total and Spread')\n",
    "ax2.scatter(df_no_outliers['over_under_line'], df_no_outliers['log_score_total'])\n",
    "ax2.set_title('Log Score Total and Over Under Line')\n",
    "ax3.scatter(df_no_outliers['weather_wind_mph'], df_no_outliers['log_score_total'])\n",
    "ax3.set_title('Log Score Total and Wind Speed')\n",
    "\n",
    "plt.show()"
   ]
  },
  {
   "cell_type": "markdown",
   "metadata": {},
   "source": [
    "### Checking for multicollinearity"
   ]
  },
  {
   "cell_type": "code",
   "execution_count": 17,
   "metadata": {},
   "outputs": [
    {
     "data": {
      "text/plain": [
       "array(['spread_favorite', 'over_under_line', 'weather_wind_mph',\n",
       "       'score_total', 'log_score_total'], dtype=object)"
      ]
     },
     "execution_count": 17,
     "metadata": {},
     "output_type": "execute_result"
    }
   ],
   "source": [
    "df_no_outliers.columns.values"
   ]
  },
  {
   "cell_type": "code",
   "execution_count": 18,
   "metadata": {},
   "outputs": [],
   "source": [
    "from statsmodels.stats.outliers_influence import variance_inflation_factor\n",
    "variables = df_no_outliers[['spread_favorite', 'over_under_line', 'weather_wind_mph']]\n",
    "vif = pd.DataFrame()\n",
    "vif['VIF'] = [variance_inflation_factor(variables.values, i) for i in range(variables.shape[1])]\n",
    "vif['Features'] = variables.columns"
   ]
  },
  {
   "cell_type": "code",
   "execution_count": 19,
   "metadata": {},
   "outputs": [
    {
     "data": {
      "text/html": [
       "<div>\n",
       "<style scoped>\n",
       "    .dataframe tbody tr th:only-of-type {\n",
       "        vertical-align: middle;\n",
       "    }\n",
       "\n",
       "    .dataframe tbody tr th {\n",
       "        vertical-align: top;\n",
       "    }\n",
       "\n",
       "    .dataframe thead th {\n",
       "        text-align: right;\n",
       "    }\n",
       "</style>\n",
       "<table border=\"1\" class=\"dataframe\">\n",
       "  <thead>\n",
       "    <tr style=\"text-align: right;\">\n",
       "      <th></th>\n",
       "      <th>VIF</th>\n",
       "      <th>Features</th>\n",
       "    </tr>\n",
       "  </thead>\n",
       "  <tbody>\n",
       "    <tr>\n",
       "      <td>0</td>\n",
       "      <td>3.60</td>\n",
       "      <td>spread_favorite</td>\n",
       "    </tr>\n",
       "    <tr>\n",
       "      <td>1</td>\n",
       "      <td>6.82</td>\n",
       "      <td>over_under_line</td>\n",
       "    </tr>\n",
       "    <tr>\n",
       "      <td>2</td>\n",
       "      <td>4.55</td>\n",
       "      <td>weather_wind_mph</td>\n",
       "    </tr>\n",
       "  </tbody>\n",
       "</table>\n",
       "</div>"
      ],
      "text/plain": [
       "    VIF          Features\n",
       "0  3.60   spread_favorite\n",
       "1  6.82   over_under_line\n",
       "2  4.55  weather_wind_mph"
      ]
     },
     "execution_count": 19,
     "metadata": {},
     "output_type": "execute_result"
    }
   ],
   "source": [
    "vif.round(2)"
   ]
  },
  {
   "cell_type": "markdown",
   "metadata": {},
   "source": [
    "### Further Insight into features"
   ]
  },
  {
   "cell_type": "code",
   "execution_count": 20,
   "metadata": {},
   "outputs": [],
   "source": [
    "spread_1 = df_no_outliers.loc[(df_no_outliers['spread_favorite'] >= 0) & (df_no_outliers['spread_favorite'] <=5)]\n",
    "score_spread_1 = spread_1[['score_total']]\n",
    "\n",
    "spread_2 = df_no_outliers.loc[(df_no_outliers['spread_favorite'] >= 5.1) & (df_no_outliers['spread_favorite'] <=10)]\n",
    "score_spread_2 = spread_2[['score_total']]\n",
    "\n",
    "spread_3 = df_no_outliers.loc[(df_no_outliers['spread_favorite'] >= 10.1) & (df_no_outliers['spread_favorite'] <=15)]\n",
    "score_spread_3 = spread_3[['score_total']]\n",
    "\n",
    "score_by_spread = [score_spread_1, score_spread_2, score_spread_3]"
   ]
  },
  {
   "cell_type": "code",
   "execution_count": 21,
   "metadata": {},
   "outputs": [
    {
     "data": {
      "text/html": [
       "<div>\n",
       "<style scoped>\n",
       "    .dataframe tbody tr th:only-of-type {\n",
       "        vertical-align: middle;\n",
       "    }\n",
       "\n",
       "    .dataframe tbody tr th {\n",
       "        vertical-align: top;\n",
       "    }\n",
       "\n",
       "    .dataframe thead th {\n",
       "        text-align: right;\n",
       "    }\n",
       "</style>\n",
       "<table border=\"1\" class=\"dataframe\">\n",
       "  <thead>\n",
       "    <tr style=\"text-align: right;\">\n",
       "      <th></th>\n",
       "      <th>Low Spread</th>\n",
       "      <th>Middle Spread</th>\n",
       "      <th>High Spread</th>\n",
       "    </tr>\n",
       "    <tr>\n",
       "      <th>Stats</th>\n",
       "      <th></th>\n",
       "      <th></th>\n",
       "      <th></th>\n",
       "    </tr>\n",
       "  </thead>\n",
       "  <tbody>\n",
       "    <tr>\n",
       "      <td>min</td>\n",
       "      <td>6.0</td>\n",
       "      <td>9.00</td>\n",
       "      <td>13.0</td>\n",
       "    </tr>\n",
       "    <tr>\n",
       "      <td>25%</td>\n",
       "      <td>31.0</td>\n",
       "      <td>31.25</td>\n",
       "      <td>33.0</td>\n",
       "    </tr>\n",
       "    <tr>\n",
       "      <td>50%</td>\n",
       "      <td>41.0</td>\n",
       "      <td>41.00</td>\n",
       "      <td>41.0</td>\n",
       "    </tr>\n",
       "    <tr>\n",
       "      <td>75%</td>\n",
       "      <td>51.0</td>\n",
       "      <td>51.00</td>\n",
       "      <td>51.0</td>\n",
       "    </tr>\n",
       "    <tr>\n",
       "      <td>max</td>\n",
       "      <td>79.0</td>\n",
       "      <td>79.00</td>\n",
       "      <td>79.0</td>\n",
       "    </tr>\n",
       "  </tbody>\n",
       "</table>\n",
       "</div>"
      ],
      "text/plain": [
       "       Low Spread  Middle Spread  High Spread\n",
       "Stats                                        \n",
       "min           6.0           9.00         13.0\n",
       "25%          31.0          31.25         33.0\n",
       "50%          41.0          41.00         41.0\n",
       "75%          51.0          51.00         51.0\n",
       "max          79.0          79.00         79.0"
      ]
     },
     "execution_count": 21,
     "metadata": {},
     "output_type": "execute_result"
    }
   ],
   "source": [
    "s_b_s = []\n",
    "\n",
    "spread_names = ['Low Spread', 'Middle Spread', 'High Spread']\n",
    "\n",
    "for x in score_by_spread:\n",
    "    i = x.describe(percentiles=[.25, .50, .75])\n",
    "    i = i.iloc[3:]\n",
    "    i.reset_index(inplace=True)\n",
    "    i.rename(columns={'index': 'Stats'}, inplace=True)\n",
    "    s_b_s.append(i)\n",
    "    \n",
    "s_b_s[0].rename(columns={'score_total' :spread_names[0]}, inplace=True)\n",
    "s_b_s[1].rename(columns={'score_total' :spread_names[1]}, inplace=True)\n",
    "s_b_s[2].rename(columns={'score_total' :spread_names[2]}, inplace=True)\n",
    "\n",
    "df_spread_stats = s_b_s\n",
    "df_spread_stats = [df.set_index('Stats') for df in df_spread_stats]\n",
    "df_spread_stats = df_spread_stats[0].join(df_spread_stats[1:])\n",
    "df_spread_stats"
   ]
  },
  {
   "cell_type": "code",
   "execution_count": 22,
   "metadata": {},
   "outputs": [],
   "source": [
    "df_spread_ranks = df_no_outliers.copy()"
   ]
  },
  {
   "cell_type": "code",
   "execution_count": 23,
   "metadata": {},
   "outputs": [],
   "source": [
    "df_spread_ranks['spread_ranks'] = ''\n",
    "df_spread_ranks.loc[(df_spread_ranks['spread_favorite'] >= 0) & (df_spread_ranks['spread_favorite'] <=5), ['spread_ranks']] = 'Low Spread'\n",
    "df_spread_ranks.loc[(df_spread_ranks['spread_favorite'] >= 5.1) & (df_spread_ranks['spread_favorite'] <=10), ['spread_ranks']] = 'Medium Spread'\n",
    "df_spread_ranks.loc[(df_spread_ranks['spread_favorite'] >= 10.1) & (df_spread_ranks['spread_favorite'] <=15), ['spread_ranks']] = 'High Spread'"
   ]
  },
  {
   "cell_type": "code",
   "execution_count": 24,
   "metadata": {},
   "outputs": [
    {
     "data": {
      "text/plain": [
       "Text(0.5, 1.0, 'Density and distribution of score for the spread rank')"
      ]
     },
     "execution_count": 24,
     "metadata": {},
     "output_type": "execute_result"
    },
    {
     "data": {
      "image/png": "[encoded data removed]",
      "text/plain": [
       "<Figure size 432x288 with 1 Axes>"
      ]
     },
     "metadata": {
      "needs_background": "light"
     },
     "output_type": "display_data"
    }
   ],
   "source": [
    "violin_data = df_spread_ranks\n",
    "\n",
    "viz=sns.violinplot(data = violin_data, x = 'spread_ranks', y = 'score_total')\n",
    "viz.set_title('Density and distribution of score for the spread rank')"
   ]
  },
  {
   "cell_type": "code",
   "execution_count": 25,
   "metadata": {},
   "outputs": [],
   "source": [
    "df_line_ranks = df_no_outliers.copy()"
   ]
  },
  {
   "cell_type": "code",
   "execution_count": 26,
   "metadata": {},
   "outputs": [],
   "source": [
    "df_line_ranks['line_ranks'] = ''\n",
    "df_line_ranks.loc[(df_line_ranks['over_under_line'] >= 30) & (df_line_ranks['over_under_line'] <= 38), ['line_ranks']] = 'Low Line'\n",
    "df_line_ranks.loc[(df_line_ranks['over_under_line'] >= 38.1) & (df_line_ranks['over_under_line'] <= 46), ['line_ranks']] = 'Medium Line'\n",
    "df_line_ranks.loc[(df_line_ranks['over_under_line'] >= 46.1) & (df_line_ranks['over_under_line'] <= 54), ['line_ranks']] = 'High Line'"
   ]
  },
  {
   "cell_type": "code",
   "execution_count": 27,
   "metadata": {},
   "outputs": [],
   "source": [
    "line_1 = df_line_ranks.loc[df_line_ranks['line_ranks'] == 'Low Line']\n",
    "score_line_1 = line_1[['score_total']]\n",
    "\n",
    "line_2 = df_line_ranks.loc[df_line_ranks['line_ranks'] == 'Medium Line']\n",
    "score_line_2 = line_2[['score_total']]\n",
    "\n",
    "line_3 = df_line_ranks.loc[df_line_ranks['line_ranks'] == 'High Line']\n",
    "score_line_3 = line_3[['score_total']]\n",
    "\n",
    "score_by_line = [score_line_1, score_line_2 , score_line_3]"
   ]
  },
  {
   "cell_type": "code",
   "execution_count": 28,
   "metadata": {},
   "outputs": [
    {
     "data": {
      "text/html": [
       "<div>\n",
       "<style scoped>\n",
       "    .dataframe tbody tr th:only-of-type {\n",
       "        vertical-align: middle;\n",
       "    }\n",
       "\n",
       "    .dataframe tbody tr th {\n",
       "        vertical-align: top;\n",
       "    }\n",
       "\n",
       "    .dataframe thead th {\n",
       "        text-align: right;\n",
       "    }\n",
       "</style>\n",
       "<table border=\"1\" class=\"dataframe\">\n",
       "  <thead>\n",
       "    <tr style=\"text-align: right;\">\n",
       "      <th></th>\n",
       "      <th>Low Line</th>\n",
       "      <th>Medium Line</th>\n",
       "      <th>High Line</th>\n",
       "    </tr>\n",
       "    <tr>\n",
       "      <th>Stats</th>\n",
       "      <th></th>\n",
       "      <th></th>\n",
       "      <th></th>\n",
       "    </tr>\n",
       "  </thead>\n",
       "  <tbody>\n",
       "    <tr>\n",
       "      <td>min</td>\n",
       "      <td>6.0</td>\n",
       "      <td>9.0</td>\n",
       "      <td>15.0</td>\n",
       "    </tr>\n",
       "    <tr>\n",
       "      <td>25%</td>\n",
       "      <td>27.0</td>\n",
       "      <td>33.0</td>\n",
       "      <td>40.0</td>\n",
       "    </tr>\n",
       "    <tr>\n",
       "      <td>50%</td>\n",
       "      <td>37.0</td>\n",
       "      <td>42.0</td>\n",
       "      <td>47.0</td>\n",
       "    </tr>\n",
       "    <tr>\n",
       "      <td>75%</td>\n",
       "      <td>47.0</td>\n",
       "      <td>51.0</td>\n",
       "      <td>56.5</td>\n",
       "    </tr>\n",
       "    <tr>\n",
       "      <td>max</td>\n",
       "      <td>79.0</td>\n",
       "      <td>79.0</td>\n",
       "      <td>79.0</td>\n",
       "    </tr>\n",
       "  </tbody>\n",
       "</table>\n",
       "</div>"
      ],
      "text/plain": [
       "       Low Line  Medium Line  High Line\n",
       "Stats                                  \n",
       "min         6.0          9.0       15.0\n",
       "25%        27.0         33.0       40.0\n",
       "50%        37.0         42.0       47.0\n",
       "75%        47.0         51.0       56.5\n",
       "max        79.0         79.0       79.0"
      ]
     },
     "execution_count": 28,
     "metadata": {},
     "output_type": "execute_result"
    }
   ],
   "source": [
    "s_b_l = []\n",
    "\n",
    "val_names = ['Low Line', 'Medium Line', 'High Line']\n",
    "\n",
    "for x in score_by_line:\n",
    "    i = x.describe(percentiles=[.25, .50, .75])\n",
    "    i = i.iloc[3:]\n",
    "    i.reset_index(inplace=True)\n",
    "    i.rename(columns={'index': 'Stats'}, inplace=True)\n",
    "    s_b_l.append(i)\n",
    "    \n",
    "s_b_l[0].rename(columns={'score_total' :val_names[0]}, inplace=True)\n",
    "s_b_l[1].rename(columns={'score_total' :val_names[1]}, inplace=True)\n",
    "s_b_l[2].rename(columns={'score_total' :val_names[2]}, inplace=True)\n",
    "\n",
    "df_line_stats = s_b_l\n",
    "df_line_stats = [df.set_index('Stats') for df in df_line_stats]\n",
    "df_line_stats = df_line_stats[0].join(df_line_stats[1:])\n",
    "df_line_stats"
   ]
  },
  {
   "cell_type": "code",
   "execution_count": 29,
   "metadata": {},
   "outputs": [
    {
     "data": {
      "text/plain": [
       "Text(0.5, 1.0, 'Density and distribution of score total for the line ranks')"
      ]
     },
     "execution_count": 29,
     "metadata": {},
     "output_type": "execute_result"
    },
    {
     "data": {
      "image/png": "[encoded data removed]",
      "text/plain": [
       "<Figure size 432x288 with 1 Axes>"
      ]
     },
     "metadata": {
      "needs_background": "light"
     },
     "output_type": "display_data"
    }
   ],
   "source": [
    "violin_data = df_line_ranks\n",
    "\n",
    "viz=sns.violinplot(data = violin_data, x = 'line_ranks', y = 'score_total')\n",
    "viz.set_title('Density and distribution of score total for the line ranks')"
   ]
  },
  {
   "cell_type": "code",
   "execution_count": 30,
   "metadata": {},
   "outputs": [],
   "source": [
    "df_wind_ranks = df_no_outliers.copy()"
   ]
  },
  {
   "cell_type": "code",
   "execution_count": 31,
   "metadata": {},
   "outputs": [],
   "source": [
    "df_wind_ranks['wind_ranks'] = ''\n",
    "df_wind_ranks.loc[(df_wind_ranks['weather_wind_mph'] >= 0) & (df_wind_ranks['weather_wind_mph'] <= 7.4), ['wind_ranks']] = 'Low Wind'\n",
    "df_wind_ranks.loc[(df_wind_ranks['weather_wind_mph'] >= 7.5) & (df_wind_ranks['weather_wind_mph'] <= 14.8 ), ['wind_ranks']] = 'Medium Wind'\n",
    "df_wind_ranks.loc[(df_wind_ranks['weather_wind_mph'] >= 14.9) & (df_wind_ranks['weather_wind_mph'] <= 22.2 ), ['wind_ranks']] = 'High Wind'"
   ]
  },
  {
   "cell_type": "code",
   "execution_count": 32,
   "metadata": {},
   "outputs": [],
   "source": [
    "wind_1 = df_wind_ranks.loc[df_wind_ranks['wind_ranks'] == 'Low Wind']\n",
    "score_wind_1 = wind_1[['score_total']]\n",
    "\n",
    "wind_2 = df_wind_ranks.loc[df_wind_ranks['wind_ranks'] == 'Medium Wind']\n",
    "score_wind_2 = wind_2[['score_total']]\n",
    "\n",
    "wind_3 = df_wind_ranks.loc[df_wind_ranks['wind_ranks'] == 'High Wind']\n",
    "score_wind_3 = wind_3[['score_total']]\n",
    "\n",
    "score_by_wind = [score_wind_1, score_wind_2 , score_wind_3]"
   ]
  },
  {
   "cell_type": "code",
   "execution_count": 33,
   "metadata": {},
   "outputs": [
    {
     "data": {
      "text/html": [
       "<div>\n",
       "<style scoped>\n",
       "    .dataframe tbody tr th:only-of-type {\n",
       "        vertical-align: middle;\n",
       "    }\n",
       "\n",
       "    .dataframe tbody tr th {\n",
       "        vertical-align: top;\n",
       "    }\n",
       "\n",
       "    .dataframe thead th {\n",
       "        text-align: right;\n",
       "    }\n",
       "</style>\n",
       "<table border=\"1\" class=\"dataframe\">\n",
       "  <thead>\n",
       "    <tr style=\"text-align: right;\">\n",
       "      <th></th>\n",
       "      <th>Low Wind</th>\n",
       "      <th>Medium Wind</th>\n",
       "      <th>High Wind</th>\n",
       "    </tr>\n",
       "    <tr>\n",
       "      <th>Stats</th>\n",
       "      <th></th>\n",
       "      <th></th>\n",
       "      <th></th>\n",
       "    </tr>\n",
       "  </thead>\n",
       "  <tbody>\n",
       "    <tr>\n",
       "      <td>min</td>\n",
       "      <td>9.0</td>\n",
       "      <td>9.0</td>\n",
       "      <td>6.0</td>\n",
       "    </tr>\n",
       "    <tr>\n",
       "      <td>25%</td>\n",
       "      <td>33.0</td>\n",
       "      <td>31.0</td>\n",
       "      <td>30.0</td>\n",
       "    </tr>\n",
       "    <tr>\n",
       "      <td>50%</td>\n",
       "      <td>43.0</td>\n",
       "      <td>41.0</td>\n",
       "      <td>37.0</td>\n",
       "    </tr>\n",
       "    <tr>\n",
       "      <td>75%</td>\n",
       "      <td>51.0</td>\n",
       "      <td>51.0</td>\n",
       "      <td>50.0</td>\n",
       "    </tr>\n",
       "    <tr>\n",
       "      <td>max</td>\n",
       "      <td>79.0</td>\n",
       "      <td>79.0</td>\n",
       "      <td>78.0</td>\n",
       "    </tr>\n",
       "  </tbody>\n",
       "</table>\n",
       "</div>"
      ],
      "text/plain": [
       "       Low Wind  Medium Wind  High Wind\n",
       "Stats                                  \n",
       "min         9.0          9.0        6.0\n",
       "25%        33.0         31.0       30.0\n",
       "50%        43.0         41.0       37.0\n",
       "75%        51.0         51.0       50.0\n",
       "max        79.0         79.0       78.0"
      ]
     },
     "execution_count": 33,
     "metadata": {},
     "output_type": "execute_result"
    }
   ],
   "source": [
    "s_b_w = []\n",
    "\n",
    "val_names = ['Low Wind', 'Medium Wind', 'High Wind']\n",
    "\n",
    "for x in score_by_wind:\n",
    "    i = x.describe(percentiles=[.25, .50, .75])\n",
    "    i = i.iloc[3:]\n",
    "    i.reset_index(inplace=True)\n",
    "    i.rename(columns={'index': 'Stats'}, inplace=True)\n",
    "    s_b_w.append(i)\n",
    "    \n",
    "s_b_w[0].rename(columns={'score_total' :val_names[0]}, inplace=True)\n",
    "s_b_w[1].rename(columns={'score_total' :val_names[1]}, inplace=True)\n",
    "s_b_w[2].rename(columns={'score_total' :val_names[2]}, inplace=True)\n",
    "\n",
    "df_wind_stats = s_b_w\n",
    "df_wind_stats = [df.set_index('Stats') for df in df_wind_stats]\n",
    "df_wind_stats = df_wind_stats[0].join(df_wind_stats[1:])\n",
    "df_wind_stats"
   ]
  },
  {
   "cell_type": "code",
   "execution_count": 34,
   "metadata": {},
   "outputs": [
    {
     "data": {
      "text/plain": [
       "Text(0.5, 1.0, 'Density and distribution of score total for the wind ranks')"
      ]
     },
     "execution_count": 34,
     "metadata": {},
     "output_type": "execute_result"
    },
    {
     "data": {
      "image/png": "[encoded data removed]",
      "text/plain": [
       "<Figure size 432x288 with 1 Axes>"
      ]
     },
     "metadata": {
      "needs_background": "light"
     },
     "output_type": "display_data"
    }
   ],
   "source": [
    "violin_data = df_wind_ranks\n",
    "\n",
    "viz=sns.violinplot(data = violin_data, x = 'wind_ranks', y = 'score_total')\n",
    "viz.set_title('Density and distribution of score total for the wind ranks')"
   ]
  },
  {
   "cell_type": "markdown",
   "metadata": {},
   "source": [
    "### Linear Regression"
   ]
  },
  {
   "cell_type": "code",
   "execution_count": 35,
   "metadata": {},
   "outputs": [],
   "source": [
    "df_pred = df_no_outliers.copy()"
   ]
  },
  {
   "cell_type": "code",
   "execution_count": 36,
   "metadata": {},
   "outputs": [],
   "source": [
    "df_pred = df_pred.drop(['score_total'], axis=1)"
   ]
  },
  {
   "cell_type": "code",
   "execution_count": 37,
   "metadata": {},
   "outputs": [
    {
     "data": {
      "text/html": [
       "<div>\n",
       "<style scoped>\n",
       "    .dataframe tbody tr th:only-of-type {\n",
       "        vertical-align: middle;\n",
       "    }\n",
       "\n",
       "    .dataframe tbody tr th {\n",
       "        vertical-align: top;\n",
       "    }\n",
       "\n",
       "    .dataframe thead th {\n",
       "        text-align: right;\n",
       "    }\n",
       "</style>\n",
       "<table border=\"1\" class=\"dataframe\">\n",
       "  <thead>\n",
       "    <tr style=\"text-align: right;\">\n",
       "      <th></th>\n",
       "      <th>spread_favorite</th>\n",
       "      <th>over_under_line</th>\n",
       "      <th>weather_wind_mph</th>\n",
       "      <th>log_score_total</th>\n",
       "    </tr>\n",
       "  </thead>\n",
       "  <tbody>\n",
       "    <tr>\n",
       "      <td>0</td>\n",
       "      <td>1.0</td>\n",
       "      <td>40.0</td>\n",
       "      <td>7.0</td>\n",
       "      <td>3.367296</td>\n",
       "    </tr>\n",
       "    <tr>\n",
       "      <td>1</td>\n",
       "      <td>10.5</td>\n",
       "      <td>38.5</td>\n",
       "      <td>8.0</td>\n",
       "      <td>3.526361</td>\n",
       "    </tr>\n",
       "    <tr>\n",
       "      <td>2</td>\n",
       "      <td>6.0</td>\n",
       "      <td>39.5</td>\n",
       "      <td>7.0</td>\n",
       "      <td>4.007333</td>\n",
       "    </tr>\n",
       "    <tr>\n",
       "      <td>3</td>\n",
       "      <td>2.5</td>\n",
       "      <td>44.0</td>\n",
       "      <td>13.0</td>\n",
       "      <td>3.583519</td>\n",
       "    </tr>\n",
       "    <tr>\n",
       "      <td>4</td>\n",
       "      <td>3.5</td>\n",
       "      <td>44.0</td>\n",
       "      <td>9.0</td>\n",
       "      <td>3.713572</td>\n",
       "    </tr>\n",
       "  </tbody>\n",
       "</table>\n",
       "</div>"
      ],
      "text/plain": [
       "   spread_favorite  over_under_line  weather_wind_mph  log_score_total\n",
       "0              1.0             40.0               7.0         3.367296\n",
       "1             10.5             38.5               8.0         3.526361\n",
       "2              6.0             39.5               7.0         4.007333\n",
       "3              2.5             44.0              13.0         3.583519\n",
       "4              3.5             44.0               9.0         3.713572"
      ]
     },
     "execution_count": 37,
     "metadata": {},
     "output_type": "execute_result"
    }
   ],
   "source": [
    "df_pred.head()"
   ]
  },
  {
   "cell_type": "code",
   "execution_count": 38,
   "metadata": {},
   "outputs": [],
   "source": [
    "features = df_pred[['spread_favorite', 'over_under_line', 'weather_wind_mph']]\n",
    "target = df_pred[['log_score_total']]\n",
    "\n",
    "x = np.array(features)\n",
    "y = np.array(target)"
   ]
  },
  {
   "cell_type": "code",
   "execution_count": 39,
   "metadata": {},
   "outputs": [],
   "source": [
    "from sklearn.model_selection import train_test_split\n",
    "\n",
    "x_train, x_test, y_train, y_test = train_test_split(x, y, test_size=0.1, random_state=18)"
   ]
  },
  {
   "cell_type": "code",
   "execution_count": 40,
   "metadata": {},
   "outputs": [
    {
     "data": {
      "text/plain": [
       "LinearRegression(copy_X=True, fit_intercept=True, n_jobs=None, normalize=False)"
      ]
     },
     "execution_count": 40,
     "metadata": {},
     "output_type": "execute_result"
    }
   ],
   "source": [
    "from sklearn.linear_model import LinearRegression\n",
    "\n",
    "model = LinearRegression()\n",
    "model.fit(x_train, y_train)"
   ]
  },
  {
   "cell_type": "code",
   "execution_count": 41,
   "metadata": {},
   "outputs": [
    {
     "data": {
      "text/plain": [
       "0.07829622133839886"
      ]
     },
     "execution_count": 41,
     "metadata": {},
     "output_type": "execute_result"
    }
   ],
   "source": [
    "model.score(x_train, y_train)"
   ]
  },
  {
   "cell_type": "code",
   "execution_count": 42,
   "metadata": {},
   "outputs": [
    {
     "data": {
      "text/plain": [
       "array([[ 0.00103585,  0.02208631, -0.0052407 ]])"
      ]
     },
     "execution_count": 42,
     "metadata": {},
     "output_type": "execute_result"
    }
   ],
   "source": [
    "model.coef_"
   ]
  },
  {
   "cell_type": "code",
   "execution_count": 43,
   "metadata": {},
   "outputs": [
    {
     "data": {
      "text/plain": [
       "array([2.79353086])"
      ]
     },
     "execution_count": 43,
     "metadata": {},
     "output_type": "execute_result"
    }
   ],
   "source": [
    "model.intercept_"
   ]
  },
  {
   "cell_type": "code",
   "execution_count": 44,
   "metadata": {},
   "outputs": [],
   "source": [
    "y_hat = model.predict(x_train)"
   ]
  },
  {
   "cell_type": "code",
   "execution_count": 45,
   "metadata": {},
   "outputs": [
    {
     "data": {
      "image/png": "[encoded data removed]",
      "text/plain": [
       "<Figure size 432x288 with 1 Axes>"
      ]
     },
     "metadata": {
      "needs_background": "light"
     },
     "output_type": "display_data"
    }
   ],
   "source": [
    "plt.scatter(y_train, y_hat, alpha=0.2)\n",
    "plt.xlabel('Targets (y_train)', size=14)\n",
    "plt.ylabel('Predictions (y_hat)', size=14)\n",
    "\n",
    "plt.show()"
   ]
  },
  {
   "cell_type": "code",
   "execution_count": 46,
   "metadata": {},
   "outputs": [
    {
     "data": {
      "text/plain": [
       "Text(0.5, 1.0, 'Residual PDF')"
      ]
     },
     "execution_count": 46,
     "metadata": {},
     "output_type": "execute_result"
    },
    {
     "data": {
      "image/png": "[encoded data removed]",
      "text/plain": [
       "<Figure size 432x288 with 1 Axes>"
      ]
     },
     "metadata": {
      "needs_background": "light"
     },
     "output_type": "display_data"
    }
   ],
   "source": [
    "sns.distplot(y_train - y_hat)\n",
    "plt.title('Residual PDF', size=14)"
   ]
  },
  {
   "cell_type": "code",
   "execution_count": 47,
   "metadata": {},
   "outputs": [],
   "source": [
    "predictions = model.predict(x_test)"
   ]
  },
  {
   "cell_type": "code",
   "execution_count": 48,
   "metadata": {},
   "outputs": [
    {
     "data": {
      "text/html": [
       "<div>\n",
       "<style scoped>\n",
       "    .dataframe tbody tr th:only-of-type {\n",
       "        vertical-align: middle;\n",
       "    }\n",
       "\n",
       "    .dataframe tbody tr th {\n",
       "        vertical-align: top;\n",
       "    }\n",
       "\n",
       "    .dataframe thead th {\n",
       "        text-align: right;\n",
       "    }\n",
       "</style>\n",
       "<table border=\"1\" class=\"dataframe\">\n",
       "  <thead>\n",
       "    <tr style=\"text-align: right;\">\n",
       "      <th></th>\n",
       "      <th>Prediction</th>\n",
       "      <th>Target</th>\n",
       "      <th>Differance</th>\n",
       "      <th>Differance%</th>\n",
       "    </tr>\n",
       "  </thead>\n",
       "  <tbody>\n",
       "    <tr>\n",
       "      <td>0</td>\n",
       "      <td>34.934999</td>\n",
       "      <td>47.0</td>\n",
       "      <td>12.065001</td>\n",
       "      <td>25.670214</td>\n",
       "    </tr>\n",
       "    <tr>\n",
       "      <td>1</td>\n",
       "      <td>36.894893</td>\n",
       "      <td>50.0</td>\n",
       "      <td>13.105107</td>\n",
       "      <td>26.210214</td>\n",
       "    </tr>\n",
       "    <tr>\n",
       "      <td>2</td>\n",
       "      <td>38.503317</td>\n",
       "      <td>31.0</td>\n",
       "      <td>-7.503317</td>\n",
       "      <td>24.204250</td>\n",
       "    </tr>\n",
       "    <tr>\n",
       "      <td>3</td>\n",
       "      <td>38.360614</td>\n",
       "      <td>37.0</td>\n",
       "      <td>-1.360614</td>\n",
       "      <td>3.677336</td>\n",
       "    </tr>\n",
       "    <tr>\n",
       "      <td>4</td>\n",
       "      <td>46.252498</td>\n",
       "      <td>62.0</td>\n",
       "      <td>15.747502</td>\n",
       "      <td>25.399197</td>\n",
       "    </tr>\n",
       "    <tr>\n",
       "      <td>5</td>\n",
       "      <td>38.624515</td>\n",
       "      <td>31.0</td>\n",
       "      <td>-7.624515</td>\n",
       "      <td>24.595211</td>\n",
       "    </tr>\n",
       "    <tr>\n",
       "      <td>6</td>\n",
       "      <td>36.132054</td>\n",
       "      <td>35.0</td>\n",
       "      <td>-1.132054</td>\n",
       "      <td>3.234439</td>\n",
       "    </tr>\n",
       "    <tr>\n",
       "      <td>7</td>\n",
       "      <td>39.730818</td>\n",
       "      <td>26.0</td>\n",
       "      <td>-13.730818</td>\n",
       "      <td>52.810839</td>\n",
       "    </tr>\n",
       "    <tr>\n",
       "      <td>8</td>\n",
       "      <td>33.495325</td>\n",
       "      <td>53.0</td>\n",
       "      <td>19.504675</td>\n",
       "      <td>36.801274</td>\n",
       "    </tr>\n",
       "    <tr>\n",
       "      <td>9</td>\n",
       "      <td>44.404064</td>\n",
       "      <td>45.0</td>\n",
       "      <td>0.595936</td>\n",
       "      <td>1.324303</td>\n",
       "    </tr>\n",
       "    <tr>\n",
       "      <td>10</td>\n",
       "      <td>39.135432</td>\n",
       "      <td>34.0</td>\n",
       "      <td>-5.135432</td>\n",
       "      <td>15.104213</td>\n",
       "    </tr>\n",
       "    <tr>\n",
       "      <td>11</td>\n",
       "      <td>36.915942</td>\n",
       "      <td>48.0</td>\n",
       "      <td>11.084058</td>\n",
       "      <td>23.091787</td>\n",
       "    </tr>\n",
       "    <tr>\n",
       "      <td>12</td>\n",
       "      <td>37.252543</td>\n",
       "      <td>52.0</td>\n",
       "      <td>14.747457</td>\n",
       "      <td>28.360494</td>\n",
       "    </tr>\n",
       "    <tr>\n",
       "      <td>13</td>\n",
       "      <td>39.716866</td>\n",
       "      <td>50.0</td>\n",
       "      <td>10.283134</td>\n",
       "      <td>20.566267</td>\n",
       "    </tr>\n",
       "    <tr>\n",
       "      <td>14</td>\n",
       "      <td>34.607182</td>\n",
       "      <td>54.0</td>\n",
       "      <td>19.392818</td>\n",
       "      <td>35.912626</td>\n",
       "    </tr>\n",
       "    <tr>\n",
       "      <td>15</td>\n",
       "      <td>47.392614</td>\n",
       "      <td>43.0</td>\n",
       "      <td>-4.392614</td>\n",
       "      <td>10.215382</td>\n",
       "    </tr>\n",
       "    <tr>\n",
       "      <td>16</td>\n",
       "      <td>42.152088</td>\n",
       "      <td>29.0</td>\n",
       "      <td>-13.152088</td>\n",
       "      <td>45.352027</td>\n",
       "    </tr>\n",
       "    <tr>\n",
       "      <td>17</td>\n",
       "      <td>42.301479</td>\n",
       "      <td>61.0</td>\n",
       "      <td>18.698521</td>\n",
       "      <td>30.653314</td>\n",
       "    </tr>\n",
       "    <tr>\n",
       "      <td>18</td>\n",
       "      <td>35.438152</td>\n",
       "      <td>51.0</td>\n",
       "      <td>15.561848</td>\n",
       "      <td>30.513428</td>\n",
       "    </tr>\n",
       "    <tr>\n",
       "      <td>19</td>\n",
       "      <td>37.191446</td>\n",
       "      <td>31.0</td>\n",
       "      <td>-6.191446</td>\n",
       "      <td>19.972405</td>\n",
       "    </tr>\n",
       "  </tbody>\n",
       "</table>\n",
       "</div>"
      ],
      "text/plain": [
       "    Prediction  Target  Differance  Differance%\n",
       "0    34.934999    47.0   12.065001    25.670214\n",
       "1    36.894893    50.0   13.105107    26.210214\n",
       "2    38.503317    31.0   -7.503317    24.204250\n",
       "3    38.360614    37.0   -1.360614     3.677336\n",
       "4    46.252498    62.0   15.747502    25.399197\n",
       "5    38.624515    31.0   -7.624515    24.595211\n",
       "6    36.132054    35.0   -1.132054     3.234439\n",
       "7    39.730818    26.0  -13.730818    52.810839\n",
       "8    33.495325    53.0   19.504675    36.801274\n",
       "9    44.404064    45.0    0.595936     1.324303\n",
       "10   39.135432    34.0   -5.135432    15.104213\n",
       "11   36.915942    48.0   11.084058    23.091787\n",
       "12   37.252543    52.0   14.747457    28.360494\n",
       "13   39.716866    50.0   10.283134    20.566267\n",
       "14   34.607182    54.0   19.392818    35.912626\n",
       "15   47.392614    43.0   -4.392614    10.215382\n",
       "16   42.152088    29.0  -13.152088    45.352027\n",
       "17   42.301479    61.0   18.698521    30.653314\n",
       "18   35.438152    51.0   15.561848    30.513428\n",
       "19   37.191446    31.0   -6.191446    19.972405"
      ]
     },
     "execution_count": 48,
     "metadata": {},
     "output_type": "execute_result"
    }
   ],
   "source": [
    "df_performance = pd.DataFrame(np.exp(predictions), columns=['Prediction'])\n",
    "df_performance['Target'] = np.exp(y_test)\n",
    "df_performance['Differance'] = df_performance['Target'] - df_performance['Prediction']\n",
    "df_performance['Differance%'] = np.absolute(df_performance['Differance'] / df_performance['Target'] * 100)\n",
    "df_performance.head(20)"
   ]
  },
  {
   "cell_type": "code",
   "execution_count": 49,
   "metadata": {},
   "outputs": [
    {
     "data": {
      "text/html": [
       "<div>\n",
       "<style scoped>\n",
       "    .dataframe tbody tr th:only-of-type {\n",
       "        vertical-align: middle;\n",
       "    }\n",
       "\n",
       "    .dataframe tbody tr th {\n",
       "        vertical-align: top;\n",
       "    }\n",
       "\n",
       "    .dataframe thead th {\n",
       "        text-align: right;\n",
       "    }\n",
       "</style>\n",
       "<table border=\"1\" class=\"dataframe\">\n",
       "  <thead>\n",
       "    <tr style=\"text-align: right;\">\n",
       "      <th></th>\n",
       "      <th>Prediction</th>\n",
       "      <th>Target</th>\n",
       "      <th>Differance</th>\n",
       "      <th>Differance%</th>\n",
       "    </tr>\n",
       "  </thead>\n",
       "  <tbody>\n",
       "    <tr>\n",
       "      <td>count</td>\n",
       "      <td>251.000000</td>\n",
       "      <td>251.000000</td>\n",
       "      <td>251.000000</td>\n",
       "      <td>251.000000</td>\n",
       "    </tr>\n",
       "    <tr>\n",
       "      <td>mean</td>\n",
       "      <td>38.895141</td>\n",
       "      <td>42.601594</td>\n",
       "      <td>3.706452</td>\n",
       "      <td>27.799605</td>\n",
       "    </tr>\n",
       "    <tr>\n",
       "      <td>std</td>\n",
       "      <td>4.315713</td>\n",
       "      <td>13.502912</td>\n",
       "      <td>13.144700</td>\n",
       "      <td>26.764913</td>\n",
       "    </tr>\n",
       "    <tr>\n",
       "      <td>min</td>\n",
       "      <td>30.970971</td>\n",
       "      <td>15.000000</td>\n",
       "      <td>-27.815537</td>\n",
       "      <td>0.215747</td>\n",
       "    </tr>\n",
       "    <tr>\n",
       "      <td>25%</td>\n",
       "      <td>35.408304</td>\n",
       "      <td>33.000000</td>\n",
       "      <td>-5.245059</td>\n",
       "      <td>10.284484</td>\n",
       "    </tr>\n",
       "    <tr>\n",
       "      <td>50%</td>\n",
       "      <td>38.470876</td>\n",
       "      <td>43.000000</td>\n",
       "      <td>1.970151</td>\n",
       "      <td>23.091787</td>\n",
       "    </tr>\n",
       "    <tr>\n",
       "      <td>75%</td>\n",
       "      <td>42.085536</td>\n",
       "      <td>51.000000</td>\n",
       "      <td>13.754302</td>\n",
       "      <td>35.692032</td>\n",
       "    </tr>\n",
       "    <tr>\n",
       "      <td>max</td>\n",
       "      <td>50.236703</td>\n",
       "      <td>78.000000</td>\n",
       "      <td>36.201176</td>\n",
       "      <td>185.436912</td>\n",
       "    </tr>\n",
       "  </tbody>\n",
       "</table>\n",
       "</div>"
      ],
      "text/plain": [
       "       Prediction      Target  Differance  Differance%\n",
       "count  251.000000  251.000000  251.000000   251.000000\n",
       "mean    38.895141   42.601594    3.706452    27.799605\n",
       "std      4.315713   13.502912   13.144700    26.764913\n",
       "min     30.970971   15.000000  -27.815537     0.215747\n",
       "25%     35.408304   33.000000   -5.245059    10.284484\n",
       "50%     38.470876   43.000000    1.970151    23.091787\n",
       "75%     42.085536   51.000000   13.754302    35.692032\n",
       "max     50.236703   78.000000   36.201176   185.436912"
      ]
     },
     "execution_count": 49,
     "metadata": {},
     "output_type": "execute_result"
    }
   ],
   "source": [
    "df_performance.describe()"
   ]
  },
  {
   "cell_type": "code",
   "execution_count": null,
   "metadata": {},
   "outputs": [],
   "source": []
  }
 ],
 "metadata": {
  "kernelspec": {
   "display_name": "Python [conda env:py3-TF2.0]",
   "language": "python",
   "name": "conda-env-py3-TF2.0-py"
  },
  "language_info": {
   "codemirror_mode": {
    "name": "ipython",
    "version": 3
   },
   "file_extension": ".py",
   "mimetype": "text/x-python",
   "name": "python",
   "nbconvert_exporter": "python",
   "pygments_lexer": "ipython3",
   "version": "3.7.4"
  }
 },
 "nbformat": 4,
 "nbformat_minor": 2
}
